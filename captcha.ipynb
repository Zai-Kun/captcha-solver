{
 "cells": [
  {
   "cell_type": "code",
   "execution_count": 1,
   "id": "641473c4",
   "metadata": {
    "execution": {
     "iopub.execute_input": "2025-03-23T14:23:07.749065Z",
     "iopub.status.busy": "2025-03-23T14:23:07.748805Z",
     "iopub.status.idle": "2025-03-23T14:23:13.376826Z",
     "shell.execute_reply": "2025-03-23T14:23:13.375940Z"
    },
    "papermill": {
     "duration": 5.632988,
     "end_time": "2025-03-23T14:23:13.378593",
     "exception": false,
     "start_time": "2025-03-23T14:23:07.745605",
     "status": "completed"
    },
    "tags": []
   },
   "outputs": [
    {
     "name": "stdout",
     "output_type": "stream",
     "text": [
      "Collecting ultralytics\r\n",
      "  Downloading ultralytics-8.3.94-py3-none-any.whl.metadata (35 kB)\r\n",
      "Requirement already satisfied: numpy<=2.1.1,>=1.23.0 in /usr/local/lib/python3.10/dist-packages (from ultralytics) (1.26.4)\r\n",
      "Requirement already satisfied: matplotlib>=3.3.0 in /usr/local/lib/python3.10/dist-packages (from ultralytics) (3.7.5)\r\n",
      "Requirement already satisfied: opencv-python>=4.6.0 in /usr/local/lib/python3.10/dist-packages (from ultralytics) (4.10.0.84)\r\n",
      "Requirement already satisfied: pillow>=7.1.2 in /usr/local/lib/python3.10/dist-packages (from ultralytics) (11.0.0)\r\n",
      "Requirement already satisfied: pyyaml>=5.3.1 in /usr/local/lib/python3.10/dist-packages (from ultralytics) (6.0.2)\r\n",
      "Requirement already satisfied: requests>=2.23.0 in /usr/local/lib/python3.10/dist-packages (from ultralytics) (2.32.3)\r\n",
      "Requirement already satisfied: scipy>=1.4.1 in /usr/local/lib/python3.10/dist-packages (from ultralytics) (1.13.1)\r\n",
      "Requirement already satisfied: torch>=1.8.0 in /usr/local/lib/python3.10/dist-packages (from ultralytics) (2.5.1+cu121)\r\n",
      "Requirement already satisfied: torchvision>=0.9.0 in /usr/local/lib/python3.10/dist-packages (from ultralytics) (0.20.1+cu121)\r\n",
      "Requirement already satisfied: tqdm>=4.64.0 in /usr/local/lib/python3.10/dist-packages (from ultralytics) (4.67.1)\r\n",
      "Requirement already satisfied: psutil in /usr/local/lib/python3.10/dist-packages (from ultralytics) (5.9.5)\r\n",
      "Requirement already satisfied: py-cpuinfo in /usr/local/lib/python3.10/dist-packages (from ultralytics) (9.0.0)\r\n",
      "Requirement already satisfied: pandas>=1.1.4 in /usr/local/lib/python3.10/dist-packages (from ultralytics) (2.2.3)\r\n",
      "Requirement already satisfied: seaborn>=0.11.0 in /usr/local/lib/python3.10/dist-packages (from ultralytics) (0.12.2)\r\n",
      "Collecting ultralytics-thop>=2.0.0 (from ultralytics)\r\n",
      "  Downloading ultralytics_thop-2.0.14-py3-none-any.whl.metadata (9.4 kB)\r\n",
      "Requirement already satisfied: contourpy>=1.0.1 in /usr/local/lib/python3.10/dist-packages (from matplotlib>=3.3.0->ultralytics) (1.3.1)\r\n",
      "Requirement already satisfied: cycler>=0.10 in /usr/local/lib/python3.10/dist-packages (from matplotlib>=3.3.0->ultralytics) (0.12.1)\r\n",
      "Requirement already satisfied: fonttools>=4.22.0 in /usr/local/lib/python3.10/dist-packages (from matplotlib>=3.3.0->ultralytics) (4.55.3)\r\n",
      "Requirement already satisfied: kiwisolver>=1.0.1 in /usr/local/lib/python3.10/dist-packages (from matplotlib>=3.3.0->ultralytics) (1.4.7)\r\n",
      "Requirement already satisfied: packaging>=20.0 in /usr/local/lib/python3.10/dist-packages (from matplotlib>=3.3.0->ultralytics) (24.2)\r\n",
      "Requirement already satisfied: pyparsing>=2.3.1 in /usr/local/lib/python3.10/dist-packages (from matplotlib>=3.3.0->ultralytics) (3.2.0)\r\n",
      "Requirement already satisfied: python-dateutil>=2.7 in /usr/local/lib/python3.10/dist-packages (from matplotlib>=3.3.0->ultralytics) (2.9.0.post0)\r\n",
      "Requirement already satisfied: mkl_fft in /usr/local/lib/python3.10/dist-packages (from numpy<=2.1.1,>=1.23.0->ultralytics) (1.3.8)\r\n",
      "Requirement already satisfied: mkl_random in /usr/local/lib/python3.10/dist-packages (from numpy<=2.1.1,>=1.23.0->ultralytics) (1.2.4)\r\n",
      "Requirement already satisfied: mkl_umath in /usr/local/lib/python3.10/dist-packages (from numpy<=2.1.1,>=1.23.0->ultralytics) (0.1.1)\r\n",
      "Requirement already satisfied: mkl in /usr/local/lib/python3.10/dist-packages (from numpy<=2.1.1,>=1.23.0->ultralytics) (2025.0.1)\r\n",
      "Requirement already satisfied: tbb4py in /usr/local/lib/python3.10/dist-packages (from numpy<=2.1.1,>=1.23.0->ultralytics) (2022.0.0)\r\n",
      "Requirement already satisfied: mkl-service in /usr/local/lib/python3.10/dist-packages (from numpy<=2.1.1,>=1.23.0->ultralytics) (2.4.1)\r\n",
      "Requirement already satisfied: pytz>=2020.1 in /usr/local/lib/python3.10/dist-packages (from pandas>=1.1.4->ultralytics) (2025.1)\r\n",
      "Requirement already satisfied: tzdata>=2022.7 in /usr/local/lib/python3.10/dist-packages (from pandas>=1.1.4->ultralytics) (2025.1)\r\n",
      "Requirement already satisfied: charset-normalizer<4,>=2 in /usr/local/lib/python3.10/dist-packages (from requests>=2.23.0->ultralytics) (3.4.1)\r\n",
      "Requirement already satisfied: idna<4,>=2.5 in /usr/local/lib/python3.10/dist-packages (from requests>=2.23.0->ultralytics) (3.10)\r\n",
      "Requirement already satisfied: urllib3<3,>=1.21.1 in /usr/local/lib/python3.10/dist-packages (from requests>=2.23.0->ultralytics) (2.3.0)\r\n",
      "Requirement already satisfied: certifi>=2017.4.17 in /usr/local/lib/python3.10/dist-packages (from requests>=2.23.0->ultralytics) (2025.1.31)\r\n",
      "Requirement already satisfied: filelock in /usr/local/lib/python3.10/dist-packages (from torch>=1.8.0->ultralytics) (3.17.0)\r\n",
      "Requirement already satisfied: typing-extensions>=4.8.0 in /usr/local/lib/python3.10/dist-packages (from torch>=1.8.0->ultralytics) (4.12.2)\r\n",
      "Requirement already satisfied: networkx in /usr/local/lib/python3.10/dist-packages (from torch>=1.8.0->ultralytics) (3.4.2)\r\n",
      "Requirement already satisfied: jinja2 in /usr/local/lib/python3.10/dist-packages (from torch>=1.8.0->ultralytics) (3.1.4)\r\n",
      "Requirement already satisfied: fsspec in /usr/local/lib/python3.10/dist-packages (from torch>=1.8.0->ultralytics) (2024.9.0)\r\n",
      "Requirement already satisfied: sympy==1.13.1 in /usr/local/lib/python3.10/dist-packages (from torch>=1.8.0->ultralytics) (1.13.1)\r\n",
      "Requirement already satisfied: mpmath<1.4,>=1.1.0 in /usr/local/lib/python3.10/dist-packages (from sympy==1.13.1->torch>=1.8.0->ultralytics) (1.3.0)\r\n",
      "Requirement already satisfied: six>=1.5 in /usr/local/lib/python3.10/dist-packages (from python-dateutil>=2.7->matplotlib>=3.3.0->ultralytics) (1.17.0)\r\n",
      "Requirement already satisfied: MarkupSafe>=2.0 in /usr/local/lib/python3.10/dist-packages (from jinja2->torch>=1.8.0->ultralytics) (3.0.2)\r\n",
      "Requirement already satisfied: intel-openmp>=2024 in /usr/local/lib/python3.10/dist-packages (from mkl->numpy<=2.1.1,>=1.23.0->ultralytics) (2024.2.0)\r\n",
      "Requirement already satisfied: tbb==2022.* in /usr/local/lib/python3.10/dist-packages (from mkl->numpy<=2.1.1,>=1.23.0->ultralytics) (2022.0.0)\r\n",
      "Requirement already satisfied: tcmlib==1.* in /usr/local/lib/python3.10/dist-packages (from tbb==2022.*->mkl->numpy<=2.1.1,>=1.23.0->ultralytics) (1.2.0)\r\n",
      "Requirement already satisfied: intel-cmplr-lib-rt in /usr/local/lib/python3.10/dist-packages (from mkl_umath->numpy<=2.1.1,>=1.23.0->ultralytics) (2024.2.0)\r\n",
      "Requirement already satisfied: intel-cmplr-lib-ur==2024.2.0 in /usr/local/lib/python3.10/dist-packages (from intel-openmp>=2024->mkl->numpy<=2.1.1,>=1.23.0->ultralytics) (2024.2.0)\r\n",
      "Downloading ultralytics-8.3.94-py3-none-any.whl (949 kB)\r\n",
      "\u001b[2K   \u001b[90m━━━━━━━━━━━━━━━━━━━━━━━━━━━━━━━━━━━━━━━━\u001b[0m \u001b[32m949.8/949.8 kB\u001b[0m \u001b[31m23.6 MB/s\u001b[0m eta \u001b[36m0:00:00\u001b[0m\r\n",
      "\u001b[?25hDownloading ultralytics_thop-2.0.14-py3-none-any.whl (26 kB)\r\n",
      "Installing collected packages: ultralytics-thop, ultralytics\r\n",
      "Successfully installed ultralytics-8.3.94 ultralytics-thop-2.0.14\r\n"
     ]
    }
   ],
   "source": [
    "!pip install ultralytics"
   ]
  },
  {
   "cell_type": "code",
   "execution_count": 2,
   "id": "832dd573",
   "metadata": {
    "execution": {
     "iopub.execute_input": "2025-03-23T14:23:13.385820Z",
     "iopub.status.busy": "2025-03-23T14:23:13.385582Z",
     "iopub.status.idle": "2025-03-23T14:26:37.501621Z",
     "shell.execute_reply": "2025-03-23T14:26:37.500587Z"
    },
    "id": "8XgHIoYfonq1",
    "papermill": {
     "duration": 204.121574,
     "end_time": "2025-03-23T14:26:37.503552",
     "exception": false,
     "start_time": "2025-03-23T14:23:13.381978",
     "status": "completed"
    },
    "tags": []
   },
   "outputs": [
    {
     "name": "stdout",
     "output_type": "stream",
     "text": [
      "Cloning into '2d-chess-pieces-detection'...\r\n",
      "remote: Enumerating objects: 1346, done.\u001b[K\r\n",
      "remote: Counting objects: 100% (1346/1346), done.\u001b[K\r\n",
      "remote: Compressing objects: 100% (1319/1319), done.\u001b[K\r\n",
      "remote: Total 1346 (delta 51), reused 1322 (delta 27), pack-reused 0 (from 0)\u001b[K\r\n",
      "Receiving objects: 100% (1346/1346), 30.42 MiB | 50.73 MiB/s, done.\r\n",
      "Resolving deltas: 100% (51/51), done.\r\n",
      "/kaggle/working/2d-chess-pieces-detection/assets\n",
      "/kaggle/working/2d-chess-pieces-detection\n",
      "/usr/local/lib/python3.10/dist-packages/PIL/Image.py:1054: UserWarning: Palette images with Transparency expressed in bytes should be converted to RGBA images\r\n",
      "  warnings.warn(\r\n",
      "Boards and pieces loaded.\r\n",
      "Training dataset generated.\r\n",
      "Validation dataset generated.\r\n",
      "Generating images with background noise...\r\n",
      "Training dataset with background noise generated.\r\n",
      "Validation dataset with background noise generated.\r\n"
     ]
    }
   ],
   "source": [
    "!git clone https://github.com/Zai-Kun/2d-chess-pieces-detection\n",
    "%cd 2d-chess-pieces-detection/assets\n",
    "!python3 random_images_downloader2.py\n",
    "!python3 generate_noise_backgrounds.py\n",
    "%cd ..\n",
    "!python3 generate_datasets.py"
   ]
  },
  {
   "cell_type": "code",
   "execution_count": 3,
   "id": "9324ceba",
   "metadata": {
    "execution": {
     "iopub.execute_input": "2025-03-23T14:26:37.512318Z",
     "iopub.status.busy": "2025-03-23T14:26:37.512080Z",
     "iopub.status.idle": "2025-03-23T14:26:38.076226Z",
     "shell.execute_reply": "2025-03-23T14:26:38.075423Z"
    },
    "id": "r9DriAQPrv7f",
    "papermill": {
     "duration": 0.570095,
     "end_time": "2025-03-23T14:26:38.077670",
     "exception": false,
     "start_time": "2025-03-23T14:26:37.507575",
     "status": "completed"
    },
    "tags": []
   },
   "outputs": [
    {
     "name": "stdout",
     "output_type": "stream",
     "text": [
      "18119\r\n",
      "15143\r\n",
      "18119\r\n",
      "15143\r\n"
     ]
    }
   ],
   "source": [
    "!ls datasets/images/train -1 | wc -l\n",
    "!ls datasets/images/val -1 | wc -l\n",
    "\n",
    "!ls datasets/labels/train -1 | wc -l\n",
    "!ls datasets/labels/val -1 | wc -l"
   ]
  },
  {
   "cell_type": "code",
   "execution_count": 4,
   "id": "97967b63",
   "metadata": {
    "execution": {
     "iopub.execute_input": "2025-03-23T14:26:38.087021Z",
     "iopub.status.busy": "2025-03-23T14:26:38.086777Z",
     "iopub.status.idle": "2025-03-23T14:26:38.089764Z",
     "shell.execute_reply": "2025-03-23T14:26:38.089166Z"
    },
    "id": "M1pjHjhIMT5w",
    "papermill": {
     "duration": 0.00883,
     "end_time": "2025-03-23T14:26:38.090882",
     "exception": false,
     "start_time": "2025-03-23T14:26:38.082052",
     "status": "completed"
    },
    "tags": []
   },
   "outputs": [],
   "source": [
    "# !mkdir -p /content/drive/MyDrive/2d-chess_detection\n",
    "# !mv /content/2d-chess-pieces-detection/datasets /content/drive/MyDrive/2d-chess_detection\n",
    "# !mv /content/2d-chess-pieces-detection/chess_detection.yaml /content/drive/MyDrive/2d-chess_detection\n",
    "# %cd /content/drive/MyDrive/2d-chess_detection"
   ]
  },
  {
   "cell_type": "markdown",
   "id": "8a4e91c0",
   "metadata": {
    "id": "qRbum52-rfbS",
    "papermill": {
     "duration": 0.003808,
     "end_time": "2025-03-23T14:26:38.098778",
     "exception": false,
     "start_time": "2025-03-23T14:26:38.094970",
     "status": "completed"
    },
    "tags": []
   },
   "source": [
    "Training"
   ]
  },
  {
   "cell_type": "code",
   "execution_count": 5,
   "id": "f47b381d",
   "metadata": {
    "execution": {
     "iopub.execute_input": "2025-03-23T14:26:38.107456Z",
     "iopub.status.busy": "2025-03-23T14:26:38.107254Z",
     "iopub.status.idle": "2025-03-23T17:32:40.226363Z",
     "shell.execute_reply": "2025-03-23T17:32:40.225234Z"
    },
    "id": "kDWUf2Hrm7J_",
    "papermill": {
     "duration": 11164.070464,
     "end_time": "2025-03-23T17:32:42.173172",
     "exception": false,
     "start_time": "2025-03-23T14:26:38.102708",
     "status": "completed"
    },
    "tags": []
   },
   "outputs": [
    {
     "name": "stdout",
     "output_type": "stream",
     "text": [
      "Creating new Ultralytics Settings v0.0.6 file ✅ \r\n",
      "View Ultralytics Settings with 'yolo settings' or at '/root/.config/Ultralytics/settings.json'\r\n",
      "Update Settings with 'yolo settings key=value', i.e. 'yolo settings runs_dir=path/to/dir'. For help see https://docs.ultralytics.com/quickstart/#ultralytics-settings.\r\n",
      "Downloading https://github.com/ultralytics/assets/releases/download/v8.3.0/yolo11s.pt to 'yolo11s.pt'...\r\n",
      "100%|███████████████████████████████████████| 18.4M/18.4M [00:00<00:00, 270MB/s]\r\n",
      "Ultralytics 8.3.94 🚀 Python-3.10.12 torch-2.5.1+cu121 CUDA:0 (Tesla T4, 15095MiB)\r\n",
      "                                                       CUDA:1 (Tesla T4, 15095MiB)\r\n",
      "\u001b[34m\u001b[1mengine/trainer: \u001b[0mtask=detect, mode=train, model=yolo11s.pt, data=chess_detection.yaml, epochs=30, time=None, patience=100, batch=16, imgsz=640, save=True, save_period=-1, cache=False, device=(0, 1), workers=8, project=None, name=train, exist_ok=False, pretrained=True, optimizer=auto, verbose=True, seed=0, deterministic=True, single_cls=False, rect=False, cos_lr=False, close_mosaic=10, resume=False, amp=True, fraction=1.0, profile=False, freeze=None, multi_scale=False, overlap_mask=True, mask_ratio=4, dropout=0.0, val=True, split=val, save_json=False, save_hybrid=False, conf=None, iou=0.7, max_det=300, half=False, dnn=False, plots=True, source=None, vid_stride=1, stream_buffer=False, visualize=False, augment=False, agnostic_nms=False, classes=None, retina_masks=False, embed=None, show=False, save_frames=False, save_txt=False, save_conf=False, save_crop=False, show_labels=True, show_conf=True, show_boxes=True, line_width=None, format=torchscript, keras=False, optimize=False, int8=False, dynamic=False, simplify=True, opset=None, workspace=None, nms=False, lr0=0.01, lrf=0.01, momentum=0.937, weight_decay=0.0005, warmup_epochs=3.0, warmup_momentum=0.8, warmup_bias_lr=0.1, box=7.5, cls=0.5, dfl=1.5, pose=12.0, kobj=1.0, nbs=64, hsv_h=0.015, hsv_s=0.7, hsv_v=0.4, degrees=0.0, translate=0.1, scale=0.5, shear=0.0, perspective=0.0, flipud=0.0, fliplr=0.5, bgr=0.0, mosaic=1.0, mixup=0.0, copy_paste=0.0, copy_paste_mode=flip, auto_augment=randaugment, erasing=0.4, crop_fraction=1.0, cfg=None, tracker=botsort.yaml, save_dir=runs/detect/train\r\n",
      "Downloading https://ultralytics.com/assets/Arial.ttf to '/root/.config/Ultralytics/Arial.ttf'...\r\n",
      "100%|████████████████████████████████████████| 755k/755k [00:00<00:00, 24.8MB/s]\r\n",
      "Overriding model.yaml nc=80 with nc=13\r\n",
      "\r\n",
      "                   from  n    params  module                                       arguments                     \r\n",
      "  0                  -1  1       928  ultralytics.nn.modules.conv.Conv             [3, 32, 3, 2]                 \r\n",
      "  1                  -1  1     18560  ultralytics.nn.modules.conv.Conv             [32, 64, 3, 2]                \r\n",
      "  2                  -1  1     26080  ultralytics.nn.modules.block.C3k2            [64, 128, 1, False, 0.25]     \r\n",
      "  3                  -1  1    147712  ultralytics.nn.modules.conv.Conv             [128, 128, 3, 2]              \r\n",
      "  4                  -1  1    103360  ultralytics.nn.modules.block.C3k2            [128, 256, 1, False, 0.25]    \r\n",
      "  5                  -1  1    590336  ultralytics.nn.modules.conv.Conv             [256, 256, 3, 2]              \r\n",
      "  6                  -1  1    346112  ultralytics.nn.modules.block.C3k2            [256, 256, 1, True]           \r\n",
      "  7                  -1  1   1180672  ultralytics.nn.modules.conv.Conv             [256, 512, 3, 2]              \r\n",
      "  8                  -1  1   1380352  ultralytics.nn.modules.block.C3k2            [512, 512, 1, True]           \r\n",
      "  9                  -1  1    656896  ultralytics.nn.modules.block.SPPF            [512, 512, 5]                 \r\n",
      " 10                  -1  1    990976  ultralytics.nn.modules.block.C2PSA           [512, 512, 1]                 \r\n",
      " 11                  -1  1         0  torch.nn.modules.upsampling.Upsample         [None, 2, 'nearest']          \r\n",
      " 12             [-1, 6]  1         0  ultralytics.nn.modules.conv.Concat           [1]                           \r\n",
      " 13                  -1  1    443776  ultralytics.nn.modules.block.C3k2            [768, 256, 1, False]          \r\n",
      " 14                  -1  1         0  torch.nn.modules.upsampling.Upsample         [None, 2, 'nearest']          \r\n",
      " 15             [-1, 4]  1         0  ultralytics.nn.modules.conv.Concat           [1]                           \r\n",
      " 16                  -1  1    127680  ultralytics.nn.modules.block.C3k2            [512, 128, 1, False]          \r\n",
      " 17                  -1  1    147712  ultralytics.nn.modules.conv.Conv             [128, 128, 3, 2]              \r\n",
      " 18            [-1, 13]  1         0  ultralytics.nn.modules.conv.Concat           [1]                           \r\n",
      " 19                  -1  1    345472  ultralytics.nn.modules.block.C3k2            [384, 256, 1, False]          \r\n",
      " 20                  -1  1    590336  ultralytics.nn.modules.conv.Conv             [256, 256, 3, 2]              \r\n",
      " 21            [-1, 10]  1         0  ultralytics.nn.modules.conv.Concat           [1]                           \r\n",
      " 22                  -1  1   1511424  ultralytics.nn.modules.block.C3k2            [768, 512, 1, True]           \r\n",
      " 23        [16, 19, 22]  1    824439  ultralytics.nn.modules.head.Detect           [13, [128, 256, 512]]         \r\n",
      "YOLO11s summary: 181 layers, 9,432,823 parameters, 9,432,807 gradients, 21.6 GFLOPs\r\n",
      "\r\n",
      "Transferred 493/499 items from pretrained weights\r\n",
      "\u001b[34m\u001b[1mDDP:\u001b[0m debug command /usr/bin/python3 -m torch.distributed.run --nproc_per_node 2 --master_port 54213 /root/.config/Ultralytics/DDP/_temp_z0kc9k_n137776042146160.py\r\n",
      "Ultralytics 8.3.94 🚀 Python-3.10.12 torch-2.5.1+cu121 CUDA:0 (Tesla T4, 15095MiB)\r\n",
      "                                                       CUDA:1 (Tesla T4, 15095MiB)\r\n",
      "\u001b[34m\u001b[1mTensorBoard: \u001b[0mStart with 'tensorboard --logdir runs/detect/train', view at http://localhost:6006/\r\n",
      "Overriding model.yaml nc=80 with nc=13\r\n",
      "Transferred 493/499 items from pretrained weights\r\n",
      "Freezing layer 'model.23.dfl.conv.weight'\r\n",
      "\u001b[34m\u001b[1mAMP: \u001b[0mrunning Automatic Mixed Precision (AMP) checks...\r\n",
      "Downloading https://github.com/ultralytics/assets/releases/download/v8.3.0/yolo11n.pt to 'yolo11n.pt'...\r\n",
      "100%|███████████████████████████████████████| 5.35M/5.35M [00:00<00:00, 108MB/s]\r\n",
      "\u001b[34m\u001b[1mAMP: \u001b[0mchecks passed ✅\r\n",
      "\u001b[34m\u001b[1mtrain: \u001b[0mScanning /kaggle/working/2d-chess-pieces-detection/datasets/labels/train.\u001b[0m\r\n",
      "\u001b[34m\u001b[1mtrain: \u001b[0mNew cache created: /kaggle/working/2d-chess-pieces-detection/datasets/labels/train.cache\r\n",
      "/usr/local/lib/python3.10/dist-packages/albumentations/__init__.py:24: UserWarning: A new version of Albumentations is available: 2.0.5 (you have 1.4.20). Upgrade using: pip install -U albumentations. To disable automatic update checks, set the environment variable NO_ALBUMENTATIONS_UPDATE to 1.\r\n",
      "  check_for_updates()\r\n",
      "\u001b[34m\u001b[1malbumentations: \u001b[0mBlur(p=0.01, blur_limit=(3, 7)), MedianBlur(p=0.01, blur_limit=(3, 7)), ToGray(p=0.01, num_output_channels=3, method='weighted_average'), CLAHE(p=0.01, clip_limit=(1.0, 4.0), tile_grid_size=(8, 8))\r\n",
      "\u001b[34m\u001b[1mval: \u001b[0mScanning /kaggle/working/2d-chess-pieces-detection/datasets/labels/val... 1\u001b[0m/usr/local/lib/python3.10/dist-packages/albumentations/__init__.py:24: UserWarning: A new version of Albumentations is available: 2.0.5 (you have 1.4.20). Upgrade using: pip install -U albumentations. To disable automatic update checks, set the environment variable NO_ALBUMENTATIONS_UPDATE to 1.\r\n",
      "  check_for_updates()\r\n",
      "\u001b[34m\u001b[1mval: \u001b[0mScanning /kaggle/working/2d-chess-pieces-detection/datasets/labels/val... 1\u001b[0m\r\n",
      "\u001b[34m\u001b[1mval: \u001b[0mNew cache created: /kaggle/working/2d-chess-pieces-detection/datasets/labels/val.cache\r\n",
      "Plotting labels to runs/detect/train/labels.jpg... \r\n",
      "\u001b[34m\u001b[1moptimizer:\u001b[0m 'optimizer=auto' found, ignoring 'lr0=0.01' and 'momentum=0.937' and determining best 'optimizer', 'lr0' and 'momentum' automatically... \r\n",
      "\u001b[34m\u001b[1moptimizer:\u001b[0m AdamW(lr=0.000588, momentum=0.9) with parameter groups 81 weight(decay=0.0), 88 weight(decay=0.0005), 87 bias(decay=0.0)\r\n",
      "\u001b[34m\u001b[1mTensorBoard: \u001b[0mmodel graph visualization added ✅\r\n",
      "Image sizes 640 train, 640 val\r\n",
      "Using 4 dataloader workers\r\n",
      "Logging results to \u001b[1mruns/detect/train\u001b[0m\r\n",
      "Starting training for 30 epochs...\r\n",
      "\r\n",
      "      Epoch    GPU_mem   box_loss   cls_loss   dfl_loss  Instances       Size\r\n",
      "       1/30      2.45G     0.2957     0.7055     0.8325        107        640: 1\r\n",
      "                 Class     Images  Instances      Box(P          R      mAP50  m\r\n",
      "                   all      15143     272922      0.936      0.871       0.95      0.937\r\n",
      "\r\n",
      "      Epoch    GPU_mem   box_loss   cls_loss   dfl_loss  Instances       Size\r\n",
      "       2/30      2.91G     0.1852     0.2917     0.7921        110        640: 1\r\n",
      "                 Class     Images  Instances      Box(P          R      mAP50  m\r\n",
      "                   all      15143     272922      0.943      0.886      0.959      0.951\r\n",
      "\r\n",
      "      Epoch    GPU_mem   box_loss   cls_loss   dfl_loss  Instances       Size\r\n",
      "       3/30      2.91G     0.1731     0.2624     0.7897         91        640: 1\r\n",
      "                 Class     Images  Instances      Box(P          R      mAP50  m\r\n",
      "                   all      15143     272922      0.946      0.902      0.963      0.955\r\n",
      "\r\n",
      "      Epoch    GPU_mem   box_loss   cls_loss   dfl_loss  Instances       Size\r\n",
      "       4/30      2.91G     0.1623     0.2444     0.7878        110        640: 1\r\n",
      "                 Class     Images  Instances      Box(P          R      mAP50  m\r\n",
      "                   all      15143     272922      0.951      0.914      0.968      0.961\r\n",
      "\r\n",
      "      Epoch    GPU_mem   box_loss   cls_loss   dfl_loss  Instances       Size\r\n",
      "       5/30      2.91G     0.1525     0.2288     0.7856        127        640: 1\r\n",
      "                 Class     Images  Instances      Box(P          R      mAP50  m\r\n",
      "                   all      15143     272922      0.959      0.916      0.971      0.965\r\n",
      "\r\n",
      "      Epoch    GPU_mem   box_loss   cls_loss   dfl_loss  Instances       Size\r\n",
      "       6/30      2.91G     0.1473     0.2177     0.7848         77        640: 1\r\n",
      "                 Class     Images  Instances      Box(P          R      mAP50  m\r\n",
      "                   all      15143     272922      0.954      0.917       0.97      0.964\r\n",
      "\r\n",
      "      Epoch    GPU_mem   box_loss   cls_loss   dfl_loss  Instances       Size\r\n",
      "       7/30      2.91G     0.1404     0.2076     0.7855        167        640: 1\r\n",
      "                 Class     Images  Instances      Box(P          R      mAP50  m\r\n",
      "                   all      15143     272922      0.963      0.926      0.976      0.972\r\n",
      "\r\n",
      "      Epoch    GPU_mem   box_loss   cls_loss   dfl_loss  Instances       Size\r\n",
      "       8/30      2.91G     0.1384     0.2049     0.7834        101        640: 1\r\n",
      "                 Class     Images  Instances      Box(P          R      mAP50  m\r\n",
      "                   all      15143     272922      0.963      0.923      0.974      0.969\r\n",
      "\r\n",
      "      Epoch    GPU_mem   box_loss   cls_loss   dfl_loss  Instances       Size\r\n",
      "       9/30      2.91G     0.1323     0.1965     0.7824         91        640: 1\r\n",
      "                 Class     Images  Instances      Box(P          R      mAP50  m\r\n",
      "                   all      15143     272922      0.963      0.926      0.975      0.971\r\n",
      "\r\n",
      "      Epoch    GPU_mem   box_loss   cls_loss   dfl_loss  Instances       Size\r\n",
      "      10/30      2.91G     0.1288     0.1903      0.783         89        640: 1\r\n",
      "                 Class     Images  Instances      Box(P          R      mAP50  m\r\n",
      "                   all      15143     272922      0.954      0.927      0.969      0.965\r\n",
      "\r\n",
      "      Epoch    GPU_mem   box_loss   cls_loss   dfl_loss  Instances       Size\r\n",
      "      11/30      2.91G     0.1265     0.1856     0.7826        120        640: 1\r\n",
      "                 Class     Images  Instances      Box(P          R      mAP50  m\r\n",
      "                   all      15143     272922      0.965      0.927      0.975      0.971\r\n",
      "\r\n",
      "      Epoch    GPU_mem   box_loss   cls_loss   dfl_loss  Instances       Size\r\n",
      "      12/30      2.91G     0.1242     0.1823     0.7823        124        640: 1\r\n",
      "                 Class     Images  Instances      Box(P          R      mAP50  m\r\n",
      "                   all      15143     272922      0.966       0.93      0.977      0.973\r\n",
      "\r\n",
      "      Epoch    GPU_mem   box_loss   cls_loss   dfl_loss  Instances       Size\r\n",
      "      13/30      2.91G     0.1213     0.1773     0.7818         84        640: 1\r\n",
      "                 Class     Images  Instances      Box(P          R      mAP50  m\r\n",
      "                   all      15143     272922      0.963       0.93      0.976      0.973\r\n",
      "\r\n",
      "      Epoch    GPU_mem   box_loss   cls_loss   dfl_loss  Instances       Size\r\n",
      "      14/30      2.91G     0.1188     0.1754     0.7825         89        640: 1\r\n",
      "                 Class     Images  Instances      Box(P          R      mAP50  m\r\n",
      "                   all      15143     272922      0.968      0.934      0.978      0.975\r\n",
      "\r\n",
      "      Epoch    GPU_mem   box_loss   cls_loss   dfl_loss  Instances       Size\r\n",
      "      15/30      2.91G     0.1183     0.1713     0.7822         78        640: 1\r\n",
      "                 Class     Images  Instances      Box(P          R      mAP50  m\r\n",
      "                   all      15143     272922      0.964      0.934      0.975      0.972\r\n",
      "\r\n",
      "      Epoch    GPU_mem   box_loss   cls_loss   dfl_loss  Instances       Size\r\n",
      "      16/30      2.91G     0.1146     0.1644     0.7815         56        640: 1\r\n",
      "                 Class     Images  Instances      Box(P          R      mAP50  m\r\n",
      "                   all      15143     272922      0.966      0.933      0.976      0.973\r\n",
      "\r\n",
      "      Epoch    GPU_mem   box_loss   cls_loss   dfl_loss  Instances       Size\r\n",
      "      17/30      2.91G     0.1126     0.1616     0.7816         75        640: 1\r\n",
      "                 Class     Images  Instances      Box(P          R      mAP50  m\r\n",
      "                   all      15143     272922      0.962      0.933      0.975      0.972\r\n",
      "\r\n",
      "      Epoch    GPU_mem   box_loss   cls_loss   dfl_loss  Instances       Size\r\n",
      "      18/30      2.91G      0.111     0.1616     0.7814        130        640: 1\r\n",
      "                 Class     Images  Instances      Box(P          R      mAP50  m\r\n",
      "                   all      15143     272922      0.964      0.935      0.977      0.974\r\n",
      "\r\n",
      "      Epoch    GPU_mem   box_loss   cls_loss   dfl_loss  Instances       Size\r\n",
      "      19/30      2.91G     0.1106     0.1572     0.7823        145        640: 1\r\n",
      "                 Class     Images  Instances      Box(P          R      mAP50  m\r\n",
      "                   all      15143     272922      0.969      0.938      0.978      0.975\r\n",
      "\r\n",
      "      Epoch    GPU_mem   box_loss   cls_loss   dfl_loss  Instances       Size\r\n",
      "      20/30      2.91G     0.1076     0.1542     0.7817         77        640: 1\r\n",
      "                 Class     Images  Instances      Box(P          R      mAP50  m\r\n",
      "                   all      15143     272922      0.967      0.937      0.978      0.975\r\n",
      "Closing dataloader mosaic\r\n",
      "\u001b[34m\u001b[1malbumentations: \u001b[0mBlur(p=0.01, blur_limit=(3, 7)), MedianBlur(p=0.01, blur_limit=(3, 7)), ToGray(p=0.01, num_output_channels=3, method='weighted_average'), CLAHE(p=0.01, clip_limit=(1.0, 4.0), tile_grid_size=(8, 8))\r\n",
      "\r\n",
      "      Epoch    GPU_mem   box_loss   cls_loss   dfl_loss  Instances       Size\r\n",
      "      21/30      2.91G    0.09864     0.1206      0.768         72        640: 1\r\n",
      "                 Class     Images  Instances      Box(P          R      mAP50  m\r\n",
      "                   all      15143     272922      0.969      0.935       0.98      0.977\r\n",
      "\r\n",
      "      Epoch    GPU_mem   box_loss   cls_loss   dfl_loss  Instances       Size\r\n",
      "      22/30      2.91G    0.09585     0.1173     0.7679         78        640: 1\r\n",
      "                 Class     Images  Instances      Box(P          R      mAP50  m\r\n",
      "                   all      15143     272922      0.969      0.939       0.98      0.977\r\n",
      "\r\n",
      "      Epoch    GPU_mem   box_loss   cls_loss   dfl_loss  Instances       Size\r\n",
      "      23/30      2.91G    0.09367     0.1123     0.7667         78        640: 1\r\n",
      "                 Class     Images  Instances      Box(P          R      mAP50  m\r\n",
      "                   all      15143     272922       0.97      0.938       0.98      0.977\r\n",
      "\r\n",
      "      Epoch    GPU_mem   box_loss   cls_loss   dfl_loss  Instances       Size\r\n",
      "      24/30      2.91G    0.09102     0.1094     0.7666         78        640: 1\r\n",
      "                 Class     Images  Instances      Box(P          R      mAP50  m\r\n",
      "                   all      15143     272922      0.968      0.941      0.979      0.977\r\n",
      "\r\n",
      "      Epoch    GPU_mem   box_loss   cls_loss   dfl_loss  Instances       Size\r\n",
      "      25/30      2.91G    0.09066     0.1066     0.7643         70        640: 1\r\n",
      "                 Class     Images  Instances      Box(P          R      mAP50  m\r\n",
      "                   all      15143     272922      0.972      0.942      0.981      0.979\r\n",
      "\r\n",
      "      Epoch    GPU_mem   box_loss   cls_loss   dfl_loss  Instances       Size\r\n",
      "      26/30      2.91G    0.08806     0.1033     0.7664         75        640: 1\r\n",
      "                 Class     Images  Instances      Box(P          R      mAP50  m\r\n",
      "                   all      15143     272922      0.969      0.938      0.979      0.977\r\n",
      "\r\n",
      "      Epoch    GPU_mem   box_loss   cls_loss   dfl_loss  Instances       Size\r\n",
      "      27/30      2.91G    0.08589     0.1007     0.7666         69        640: 1\r\n",
      "                 Class     Images  Instances      Box(P          R      mAP50  m\r\n",
      "                   all      15143     272922       0.97      0.941      0.981      0.979\r\n",
      "\r\n",
      "      Epoch    GPU_mem   box_loss   cls_loss   dfl_loss  Instances       Size\r\n",
      "      28/30      2.91G    0.08501    0.09842     0.7667         63        640: 1\r\n",
      "                 Class     Images  Instances      Box(P          R      mAP50  m\r\n",
      "                   all      15143     272922      0.968      0.938      0.979      0.977\r\n",
      "\r\n",
      "      Epoch    GPU_mem   box_loss   cls_loss   dfl_loss  Instances       Size\r\n",
      "      29/30      2.91G    0.08345    0.09838     0.7665         73        640: 1\r\n",
      "                 Class     Images  Instances      Box(P          R      mAP50  m\r\n",
      "                   all      15143     272922      0.969      0.937      0.978      0.976\r\n",
      "\r\n",
      "      Epoch    GPU_mem   box_loss   cls_loss   dfl_loss  Instances       Size\r\n",
      "      30/30      2.91G    0.08009    0.09251     0.7661         80        640: 1\r\n",
      "                 Class     Images  Instances      Box(P          R      mAP50  m\r\n",
      "                   all      15143     272922      0.969      0.937      0.978      0.976\r\n",
      "\r\n",
      "30 epochs completed in 3.028 hours.\r\n",
      "Optimizer stripped from runs/detect/train/weights/last.pt, 19.2MB\r\n",
      "Optimizer stripped from runs/detect/train/weights/best.pt, 19.2MB\r\n",
      "\r\n",
      "Validating runs/detect/train/weights/best.pt...\r\n",
      "Ultralytics 8.3.94 🚀 Python-3.10.12 torch-2.5.1+cu121 CUDA:0 (Tesla T4, 15095MiB)\r\n",
      "                                                       CUDA:1 (Tesla T4, 15095MiB)\r\n",
      "YOLO11s summary (fused): 100 layers, 9,417,831 parameters, 0 gradients, 21.3 GFLOPs\r\n",
      "                 Class     Images  Instances      Box(P          R      mAP50  m\r\n",
      "                   all      15143     272922      0.972      0.942      0.981      0.979\r\n",
      "            black_pawn      13484      60748      0.985      0.959      0.992       0.99\r\n",
      "            black_rook      10140      15301      0.941      0.934      0.978      0.975\r\n",
      "          black_knight      10133      15288      0.979      0.939      0.987      0.984\r\n",
      "          black_bishop      10065      15103      0.978      0.959      0.991      0.989\r\n",
      "           black_queen       7609       7609       0.98      0.876      0.952      0.949\r\n",
      "            black_king      15143      15143      0.965      0.948      0.985      0.983\r\n",
      "            white_pawn      13414      60657      0.983      0.953       0.99      0.988\r\n",
      "            white_rook      10003      14939      0.925      0.959      0.982      0.979\r\n",
      "          white_knight      10128      15132      0.974      0.949      0.987      0.985\r\n",
      "          white_bishop      10076      15154      0.984      0.961      0.992      0.989\r\n",
      "           white_queen       7562       7562      0.973      0.877      0.945      0.941\r\n",
      "            white_king      15143      15143       0.97      0.927      0.981      0.979\r\n",
      "           chess_board      15143      15143          1          1      0.995      0.995\r\n",
      "/usr/local/lib/python3.10/dist-packages/matplotlib/colors.py:721: RuntimeWarning: invalid value encountered in less\r\n",
      "  xa[xa < 0] = -1\r\n",
      "/usr/local/lib/python3.10/dist-packages/matplotlib/colors.py:721: RuntimeWarning: invalid value encountered in less\r\n",
      "  xa[xa < 0] = -1\r\n",
      "Speed: 0.2ms preprocess, 4.4ms inference, 0.0ms loss, 0.9ms postprocess per image\r\n",
      "Results saved to \u001b[1mruns/detect/train\u001b[0m\r\n",
      "💡 Learn more at https://docs.ultralytics.com/modes/train\r\n"
     ]
    }
   ],
   "source": [
    "!yolo detect train data=chess_detection.yaml model=yolo11s.pt epochs=30 device=0,1"
   ]
  },
  {
   "cell_type": "code",
   "execution_count": 6,
   "id": "181aebeb",
   "metadata": {
    "execution": {
     "iopub.execute_input": "2025-03-23T17:32:48.739724Z",
     "iopub.status.busy": "2025-03-23T17:32:48.739415Z",
     "iopub.status.idle": "2025-03-23T17:32:48.742715Z",
     "shell.execute_reply": "2025-03-23T17:32:48.742067Z"
    },
    "id": "hpHcJAK8Do2j",
    "papermill": {
     "duration": 3.362504,
     "end_time": "2025-03-23T17:32:48.743979",
     "exception": false,
     "start_time": "2025-03-23T17:32:45.381475",
     "status": "completed"
    },
    "tags": []
   },
   "outputs": [],
   "source": [
    "# !wget https://github.com/Zai-Kun/2d-chess-pieces-detection/releases/download/v0.0.4/chess_detectionv0.0.4.pt \n",
    "# !yolo train data=chess_detection.yaml model=chess_detectionv0.0.4.pt epochs=60 device=0,1"
   ]
  },
  {
   "cell_type": "code",
   "execution_count": 7,
   "id": "cd833a2b",
   "metadata": {
    "execution": {
     "iopub.execute_input": "2025-03-23T17:32:55.377519Z",
     "iopub.status.busy": "2025-03-23T17:32:55.377241Z",
     "iopub.status.idle": "2025-03-23T17:32:57.708422Z",
     "shell.execute_reply": "2025-03-23T17:32:57.707266Z"
    },
    "papermill": {
     "duration": 5.56744,
     "end_time": "2025-03-23T17:32:57.710045",
     "exception": false,
     "start_time": "2025-03-23T17:32:52.142605",
     "status": "completed"
    },
    "tags": []
   },
   "outputs": [],
   "source": [
    "!rm -rf datasets"
   ]
  },
  {
   "cell_type": "code",
   "execution_count": 8,
   "id": "2b47da63",
   "metadata": {
    "execution": {
     "iopub.execute_input": "2025-03-23T17:33:04.430951Z",
     "iopub.status.busy": "2025-03-23T17:33:04.430662Z",
     "iopub.status.idle": "2025-03-23T17:33:04.434103Z",
     "shell.execute_reply": "2025-03-23T17:33:04.433415Z"
    },
    "id": "nTz50gVgBonD",
    "papermill": {
     "duration": 3.466135,
     "end_time": "2025-03-23T17:33:04.435395",
     "exception": false,
     "start_time": "2025-03-23T17:33:00.969260",
     "status": "completed"
    },
    "tags": []
   },
   "outputs": [],
   "source": [
    "# !mv /content/2d-chess-pieces-detection/drive/MyDrive/2d-chess-detection /content/drive/MyDrive"
   ]
  },
  {
   "cell_type": "code",
   "execution_count": 9,
   "id": "b3e4a61a",
   "metadata": {
    "execution": {
     "iopub.execute_input": "2025-03-23T17:33:10.980893Z",
     "iopub.status.busy": "2025-03-23T17:33:10.980591Z",
     "iopub.status.idle": "2025-03-23T17:33:10.983709Z",
     "shell.execute_reply": "2025-03-23T17:33:10.983079Z"
    },
    "id": "BW5tLnTSoulf",
    "papermill": {
     "duration": 3.346317,
     "end_time": "2025-03-23T17:33:10.984918",
     "exception": false,
     "start_time": "2025-03-23T17:33:07.638601",
     "status": "completed"
    },
    "tags": []
   },
   "outputs": [],
   "source": [
    "# !yolo export model=/kaggle/working/2d-chess-pieces-detection/train/weights/best.pt format=onnx nms=True"
   ]
  },
  {
   "cell_type": "code",
   "execution_count": 10,
   "id": "cb3cb907",
   "metadata": {
    "execution": {
     "iopub.execute_input": "2025-03-23T17:33:17.557857Z",
     "iopub.status.busy": "2025-03-23T17:33:17.557592Z",
     "iopub.status.idle": "2025-03-23T17:33:17.560555Z",
     "shell.execute_reply": "2025-03-23T17:33:17.559908Z"
    },
    "id": "feM0HL1s2UXg",
    "papermill": {
     "duration": 3.234162,
     "end_time": "2025-03-23T17:33:17.561734",
     "exception": false,
     "start_time": "2025-03-23T17:33:14.327572",
     "status": "completed"
    },
    "tags": []
   },
   "outputs": [],
   "source": [
    "# !rm -rf datasets"
   ]
  },
  {
   "cell_type": "code",
   "execution_count": 11,
   "id": "0fd0bb4c",
   "metadata": {
    "execution": {
     "iopub.execute_input": "2025-03-23T17:33:24.093047Z",
     "iopub.status.busy": "2025-03-23T17:33:24.092730Z",
     "iopub.status.idle": "2025-03-23T17:33:24.095757Z",
     "shell.execute_reply": "2025-03-23T17:33:24.095123Z"
    },
    "id": "PF5Y3wg29SDU",
    "papermill": {
     "duration": 3.311958,
     "end_time": "2025-03-23T17:33:24.097079",
     "exception": false,
     "start_time": "2025-03-23T17:33:20.785121",
     "status": "completed"
    },
    "tags": []
   },
   "outputs": [],
   "source": [
    "# !rm -rf runs/detect/predict*"
   ]
  }
 ],
 "metadata": {
  "accelerator": "GPU",
  "colab": {
   "gpuType": "T4",
   "provenance": []
  },
  "kaggle": {
   "accelerator": "nvidiaTeslaT4",
   "dataSources": [
    {
     "datasetId": 6694435,
     "sourceId": 10787568,
     "sourceType": "datasetVersion"
    }
   ],
   "dockerImageVersionId": 30886,
   "isGpuEnabled": true,
   "isInternetEnabled": true,
   "language": "python",
   "sourceType": "notebook"
  },
  "kernelspec": {
   "display_name": "Python 3",
   "language": "python",
   "name": "python3"
  },
  "language_info": {
   "codemirror_mode": {
    "name": "ipython",
    "version": 3
   },
   "file_extension": ".py",
   "mimetype": "text/x-python",
   "name": "python",
   "nbconvert_exporter": "python",
   "pygments_lexer": "ipython3",
   "version": "3.10.12"
  },
  "papermill": {
   "default_parameters": {},
   "duration": 11422.675471,
   "end_time": "2025-03-23T17:33:27.747246",
   "environment_variables": {},
   "exception": null,
   "input_path": "__notebook__.ipynb",
   "output_path": "__notebook__.ipynb",
   "parameters": {},
   "start_time": "2025-03-23T14:23:05.071775",
   "version": "2.6.0"
  }
 },
 "nbformat": 4,
 "nbformat_minor": 5
}
